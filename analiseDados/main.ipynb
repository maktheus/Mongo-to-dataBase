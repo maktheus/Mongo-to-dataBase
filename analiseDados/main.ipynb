{
 "cells": [
  {
   "cell_type": "code",
   "execution_count": 4,
   "metadata": {},
   "outputs": [
    {
     "data": {
      "text/html": [
       "<div>\n",
       "<style scoped>\n",
       "    .dataframe tbody tr th:only-of-type {\n",
       "        vertical-align: middle;\n",
       "    }\n",
       "\n",
       "    .dataframe tbody tr th {\n",
       "        vertical-align: top;\n",
       "    }\n",
       "\n",
       "    .dataframe thead th {\n",
       "        text-align: right;\n",
       "    }\n",
       "</style>\n",
       "<table border=\"1\" class=\"dataframe\">\n",
       "  <thead>\n",
       "    <tr style=\"text-align: right;\">\n",
       "      <th></th>\n",
       "      <th>InletPressure</th>\n",
       "      <th>OutletPressure</th>\n",
       "      <th>OutletTemperature</th>\n",
       "      <th>InverterSpeed</th>\n",
       "      <th>Time</th>\n",
       "    </tr>\n",
       "  </thead>\n",
       "  <tbody>\n",
       "    <tr>\n",
       "      <th>0</th>\n",
       "      <td>16.930580</td>\n",
       "      <td>1011.139771</td>\n",
       "      <td>83.308502</td>\n",
       "      <td>4552.0</td>\n",
       "      <td>2023-02-16 02:29:31</td>\n",
       "    </tr>\n",
       "    <tr>\n",
       "      <th>1</th>\n",
       "      <td>17.123455</td>\n",
       "      <td>1011.230347</td>\n",
       "      <td>83.308502</td>\n",
       "      <td>4578.0</td>\n",
       "      <td>2023-02-16 02:29:42</td>\n",
       "    </tr>\n",
       "    <tr>\n",
       "      <th>2</th>\n",
       "      <td>16.737577</td>\n",
       "      <td>1010.567200</td>\n",
       "      <td>83.383270</td>\n",
       "      <td>4562.0</td>\n",
       "      <td>2023-02-16 02:29:53</td>\n",
       "    </tr>\n",
       "    <tr>\n",
       "      <th>3</th>\n",
       "      <td>16.930515</td>\n",
       "      <td>1010.898804</td>\n",
       "      <td>83.308502</td>\n",
       "      <td>4568.0</td>\n",
       "      <td>2023-02-16 02:30:04</td>\n",
       "    </tr>\n",
       "    <tr>\n",
       "      <th>4</th>\n",
       "      <td>16.834047</td>\n",
       "      <td>1010.868408</td>\n",
       "      <td>83.383270</td>\n",
       "      <td>4567.0</td>\n",
       "      <td>2023-02-16 02:30:14</td>\n",
       "    </tr>\n",
       "  </tbody>\n",
       "</table>\n",
       "</div>"
      ],
      "text/plain": [
       "   InletPressure  OutletPressure  OutletTemperature  InverterSpeed  \\\n",
       "0      16.930580     1011.139771          83.308502         4552.0   \n",
       "1      17.123455     1011.230347          83.308502         4578.0   \n",
       "2      16.737577     1010.567200          83.383270         4562.0   \n",
       "3      16.930515     1010.898804          83.308502         4568.0   \n",
       "4      16.834047     1010.868408          83.383270         4567.0   \n",
       "\n",
       "                  Time  \n",
       "0  2023-02-16 02:29:31  \n",
       "1  2023-02-16 02:29:42  \n",
       "2  2023-02-16 02:29:53  \n",
       "3  2023-02-16 02:30:04  \n",
       "4  2023-02-16 02:30:14  "
      ]
     },
     "execution_count": 4,
     "metadata": {},
     "output_type": "execute_result"
    }
   ],
   "source": [
    "import pandas as pd\n",
    "\n",
    "dataFrameHexData = pd.read_csv('../saida/hex/hex.csv')\n",
    "dataFrameHexData.head()"
   ]
  },
  {
   "cell_type": "code",
   "execution_count": 2,
   "metadata": {},
   "outputs": [
    {
     "name": "stdout",
     "output_type": "stream",
     "text": [
      "Requirement already satisfied: pandas in /home/muchoa/miniconda3/envs/willecMongo/lib/python3.11/site-packages (1.5.3)\n",
      "Requirement already satisfied: python-dateutil>=2.8.1 in /home/muchoa/miniconda3/envs/willecMongo/lib/python3.11/site-packages (from pandas) (2.8.2)\n",
      "Requirement already satisfied: pytz>=2020.1 in /home/muchoa/miniconda3/envs/willecMongo/lib/python3.11/site-packages (from pandas) (2022.7)\n",
      "Requirement already satisfied: numpy>=1.21.0 in /home/muchoa/miniconda3/envs/willecMongo/lib/python3.11/site-packages (from pandas) (1.24.3)\n",
      "Requirement already satisfied: six>=1.5 in /home/muchoa/miniconda3/envs/willecMongo/lib/python3.11/site-packages (from python-dateutil>=2.8.1->pandas) (1.16.0)\n"
     ]
    }
   ],
   "source": [
    "!pip install pandas"
   ]
  }
 ],
 "metadata": {
  "kernelspec": {
   "display_name": "Python 3",
   "language": "python",
   "name": "python3"
  },
  "language_info": {
   "codemirror_mode": {
    "name": "ipython",
    "version": 3
   },
   "file_extension": ".py",
   "mimetype": "text/x-python",
   "name": "python",
   "nbconvert_exporter": "python",
   "pygments_lexer": "ipython3",
   "version": "3.11.3"
  },
  "orig_nbformat": 4
 },
 "nbformat": 4,
 "nbformat_minor": 2
}
